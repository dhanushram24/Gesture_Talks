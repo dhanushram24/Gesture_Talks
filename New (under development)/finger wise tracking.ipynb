{
 "cells": [
  {
   "cell_type": "code",
   "execution_count": 1,
   "metadata": {},
   "outputs": [],
   "source": [
    "import mediapipe\n",
    "import cv2\n",
    "import numpy as np"
   ]
  },
  {
   "cell_type": "code",
   "execution_count": 2,
   "metadata": {},
   "outputs": [],
   "source": [
    "drawingModule = mediapipe.solutions.drawing_utils\n",
    "handsModule = mediapipe.solutions.hands"
   ]
  },
  {
   "cell_type": "code",
   "execution_count": 58,
   "metadata": {},
   "outputs": [
    {
     "data": {
      "text/plain": [
       "-1"
      ]
     },
     "execution_count": 58,
     "metadata": {},
     "output_type": "execute_result"
    }
   ],
   "source": [
    "cap = cv2.VideoCapture(0)\n",
    "fourcc = cv2.VideoWriter_fourcc('m', 'p', '4', 'v')\n",
    "\n",
    "with handsModule.Hands(static_image_mode = False, min_detection_confidence = 0.3, min_tracking_confidence = 0.3, max_num_hands = 2) as hands:\n",
    "     while True:\n",
    "          ret, frame = cap.read()\n",
    "          #flipped = cv2.flip(frame, flipCode = -1)\n",
    "\n",
    "          frame1 = cv2.resize(frame, (640, 480))\n",
    "          image_height, image_width, _ = frame1.shape\n",
    "           \n",
    "          results = hands.process(cv2.cvtColor(frame1, cv2.COLOR_BGR2RGB))\n",
    "           \n",
    "          if results.multi_hand_landmarks != None:\n",
    "               arr = np.array(results.multi_hand_landmarks)\n",
    "               no_hands = arr.shape[0]   \n",
    "               for n in range(0, no_hands):\n",
    "                    arrx = []; arry = []; \n",
    "                    arr = np.array(results.multi_hand_landmarks[n].landmark)\n",
    "                    for i in range (1, arr.size, 4):\n",
    "                         tempx = []; tempy = []\n",
    "                         for j in range(i, i + 4 ):\n",
    "                              tempx.append(arr[j].x)\n",
    "                              tempy.append(arr[j].y)\n",
    "                         arrx.append(tempx)\n",
    "                         arry.append(tempy)\n",
    "                    for k in range(0, len(arrx)):\n",
    "                         diff1  = int(arry[k][1]*image_height) - int(arry[k][2]*image_height)\n",
    "                         diff2  = int(arry[k][2]*image_height) - int(arry[k][3]*image_height)\n",
    "                         cv2.putText(frame1, str(diff2) ,(int(arrx[k][3]* image_width), int(arry[k][3] * image_height)- 70),cv2.FONT_HERSHEY_COMPLEX,(0.5),(0,0,0),1)\n",
    "                         cv2.putText(frame1, str(diff1) ,(int(arrx[k][3]* image_width), int(arry[k][3] * image_height)- 35),cv2.FONT_HERSHEY_COMPLEX,(0.5),(0,0,0),1)\n",
    "                         for c in range(0, 4):\n",
    "                              cv2.circle(frame1, (int(arrx[k][c]* image_width) , int(arry[k][c]* image_height)) , 3, (0,0,255), -1)\n",
    "                             \n",
    "          cv2.imshow(\"Frame\", frame1)\n",
    "          key = cv2.waitKey(1) & 0xFF\n",
    "           \n",
    "          if key == ord(\"q\"):\n",
    "              break\n",
    "cap.release()\n",
    "cv2.destroyAllWindows()\n",
    "cv2.waitKey(1)"
   ]
  },
  {
   "cell_type": "code",
   "execution_count": 62,
   "metadata": {},
   "outputs": [
    {
     "data": {
      "text/plain": [
       "-1"
      ]
     },
     "execution_count": 62,
     "metadata": {},
     "output_type": "execute_result"
    }
   ],
   "source": [
    "cap = cv2.VideoCapture(0)\n",
    "fourcc = cv2.VideoWriter_fourcc('m', 'p', '4', 'v')\n",
    "\n",
    "with handsModule.Hands(static_image_mode = False, min_detection_confidence = 0.5, min_tracking_confidence = 0.5, max_num_hands = 2) as hands:\n",
    "     while True:\n",
    "          ret, frame = cap.read()\n",
    "          #flipped = cv2.flip(frame, flipCode = -1)\n",
    "\n",
    "          frame1 = cv2.resize(frame, (640, 480))\n",
    "          image_height, image_width, _ = frame1.shape\n",
    "           \n",
    "          results = hands.process(cv2.cvtColor(frame1, cv2.COLOR_BGR2RGB))\n",
    "           \n",
    "          if results.multi_hand_landmarks != None:\n",
    "               arr = np.array(results.multi_hand_landmarks)\n",
    "               no_hands = arr.shape[0]   \n",
    "               for n in range(0, no_hands):\n",
    "                    arrx = []; arry = []; \n",
    "                    arr = np.array(results.multi_hand_landmarks[n].landmark)\n",
    "                    for i in range (1, arr.size, 4):\n",
    "                         tempx = []; tempy = []\n",
    "                         for j in range(i, i + 4 ):\n",
    "                              tempx.append(arr[j].x)\n",
    "                              tempy.append(arr[j].y)\n",
    "                         arrx.append(tempx)\n",
    "                         arry.append(tempy)\n",
    "                    count = 0\n",
    "                    for k in range(0, len(arrx)):\n",
    "                         if k != 0:\n",
    "                              if int(arry[k][3]*image_width) < int(arry[k][1]*image_width):\n",
    "                                   cv2.putText(frame1, \"Up\" ,(int(arrx[k][3]* image_width), int(arry[k][3] * image_height)- 35),cv2.FONT_HERSHEY_COMPLEX,(0.5),(0,0,0),1)\n",
    "                                   count += 1\n",
    "                              else:\n",
    "                                   cv2.putText(frame1, \"Down\" ,(int(arrx[k][3]* image_width), int(arry[k][3] * image_height)- 35),cv2.FONT_HERSHEY_COMPLEX,(0.5),(0,0,0),1)\n",
    "                                   count -= 1\n",
    "                         for c in range(0, 4):\n",
    "                              cv2.circle(frame1, (int(arrx[k][c]* image_width) , int(arry[k][c]* image_height)) , 3, (0,0,255), -1)\n",
    "                         \n",
    "          cv2.imshow(\"Frame\", frame1)\n",
    "          key = cv2.waitKey(1) & 0xFF\n",
    "           \n",
    "          if key == ord(\"q\"):\n",
    "              break\n",
    "cap.release()\n",
    "cv2.destroyAllWindows()\n",
    "cv2.waitKey(1)"
   ]
  },
  {
   "cell_type": "code",
   "execution_count": 61,
   "metadata": {},
   "outputs": [
    {
     "data": {
      "text/plain": [
       "-1"
      ]
     },
     "execution_count": 61,
     "metadata": {},
     "output_type": "execute_result"
    }
   ],
   "source": [
    "cap = cv2.VideoCapture(0)\n",
    "fourcc = cv2.VideoWriter_fourcc('m', 'p', '4', 'v')\n",
    "\n",
    "with handsModule.Hands(static_image_mode = False, min_detection_confidence = 0.7, min_tracking_confidence = 0.7, max_num_hands = 1) as hands:\n",
    "     while True:\n",
    "          ret, frame = cap.read()\n",
    "          #flipped = cv2.flip(frame, flipCode = -1)\n",
    "\n",
    "          frame1 = cv2.resize(frame, (640, 480))\n",
    "           \n",
    "          results = hands.process(cv2.cvtColor(frame1, cv2.COLOR_BGR2RGB))\n",
    "           \n",
    "          if results.multi_hand_landmarks != None:\n",
    "               arr = np.array(results.multi_hand_landmarks[0].landmark)\n",
    "               #Index Finger\n",
    "               x1, y1 = arr[5].x , arr[5].y\n",
    "               x2, y2 = arr[6].x , arr[6].y\n",
    "               x3, y3 = arr[7].x , arr[7].y\n",
    "               x4, y4 = arr[8].x , arr[8].y\n",
    "\n",
    "               image_height, image_width, _ = frame1.shape\n",
    "               x1, y1 = int(x1 * image_width), int(y1 * image_height)\n",
    "               x2, y2 = int(x2 * image_width), int(y2 * image_height)\n",
    "               x3, y3 = int(x3 * image_width), int(y3 * image_height)\n",
    "               x4, y4 = int(x4 * image_width), int(y4 * image_height)\n",
    "\n",
    "               cv2.circle(frame1, (x1 , y1), 2, (255,0,255), -1)\n",
    "               cv2.circle(frame1, (x2 , y2), 2, (255,0,255), -1)\n",
    "               cv2.circle(frame1, (x3 , y3), 2, (255,0,255), -1)\n",
    "               cv2.circle(frame1, (x4 , y4), 2, (255,0,255), -1)\n",
    "\n",
    "               diff1 = y3 - y4\n",
    "               diff2 = y2 - y3\n",
    "               cv2.putText(frame1, str(diff1) ,(x1 + 100, y1 + 100 ),cv2.FONT_HERSHEY_COMPLEX,(1),(255,255,255),4)\n",
    "               cv2.putText(frame1, str(diff2) ,(x1 + 100, y1 + 150 ),cv2.FONT_HERSHEY_COMPLEX,(1),(255,255,255),4)\n",
    "\n",
    "          cv2.imshow(\"Frame\", frame1)\n",
    "          key = cv2.waitKey(1) & 0xFF\n",
    "           \n",
    "          if key == ord(\"q\"):\n",
    "              break\n",
    "cap.release()\n",
    "cv2.destroyAllWindows()\n",
    "cv2.waitKey(1)\n"
   ]
  },
  {
   "cell_type": "code",
   "execution_count": null,
   "metadata": {},
   "outputs": [],
   "source": [
    "np.array(handLandmarks.landmark)"
   ]
  },
  {
   "cell_type": "code",
   "execution_count": 7,
   "metadata": {},
   "outputs": [
    {
     "data": {
      "text/plain": [
       "x: 0.8245017\n",
       "y: 0.6639537\n",
       "z: 6.9727736e-07"
      ]
     },
     "execution_count": 7,
     "metadata": {},
     "output_type": "execute_result"
    }
   ],
   "source": [
    "arr = np.array(results.multi_hand_landmarks[0].landmark)\n",
    "arr[0]"
   ]
  },
  {
   "cell_type": "markdown",
   "metadata": {},
   "source": [
    "**Index 5 to 8 : landmarks of Index finger**"
   ]
  },
  {
   "cell_type": "code",
   "execution_count": null,
   "metadata": {},
   "outputs": [],
   "source": [
    "for i in range(5,9):\n",
    "    print(arr[i].x, arr[i].y) "
   ]
  },
  {
   "cell_type": "code",
   "execution_count": 10,
   "metadata": {},
   "outputs": [],
   "source": [
    "cap.release()"
   ]
  }
 ],
 "metadata": {
  "kernelspec": {
   "display_name": "Python 3",
   "language": "python",
   "name": "python3"
  },
  "language_info": {
   "codemirror_mode": {
    "name": "ipython",
    "version": 3
   },
   "file_extension": ".py",
   "mimetype": "text/x-python",
   "name": "python",
   "nbconvert_exporter": "python",
   "pygments_lexer": "ipython3",
   "version": "3.11.3"
  },
  "orig_nbformat": 4
 },
 "nbformat": 4,
 "nbformat_minor": 2
}
