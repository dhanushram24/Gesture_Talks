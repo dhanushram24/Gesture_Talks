{
 "cells": [
  {
   "cell_type": "code",
   "execution_count": 1,
   "metadata": {},
   "outputs": [],
   "source": [
    "import cv2\n",
    "import mediapipe as mp\n",
    "import numpy as np"
   ]
  },
  {
   "cell_type": "code",
   "execution_count": 2,
   "metadata": {},
   "outputs": [],
   "source": [
    "def RGB(event, x, y, flags, param):\n",
    "    if event == cv2.EVENT_MOUSEMOVE :  \n",
    "        colorsBGR = [x, y]\n",
    "        print(colorsBGR)"
   ]
  },
  {
   "cell_type": "code",
   "execution_count": 5,
   "metadata": {},
   "outputs": [
    {
     "name": "stdout",
     "output_type": "stream",
     "text": [
      "[119, 755]\n",
      "[212, 817]\n",
      "[466, 988]\n"
     ]
    },
    {
     "data": {
      "text/plain": [
       "-1"
      ]
     },
     "execution_count": 5,
     "metadata": {},
     "output_type": "execute_result"
    }
   ],
   "source": [
    "area1 = [(1911, 248),(7, 248),(8, 9),(1911, 10)] \n",
    "cv2.namedWindow('RGB')\n",
    "cv2.setMouseCallback('RGB', RGB)\n",
    "cap = cv2.VideoCapture(0)\n",
    "count = 0\n",
    "while True:\n",
    "    ret, frame = cap.read()\n",
    "    if not ret:\n",
    "        break\n",
    "    cv2.polylines(frame,[np.array(area1,np.int32)], True, (255,0,0), 3)    \n",
    "    cv2.imshow(\"RGB\", frame)\n",
    "    if cv2.waitKey(1) & 0xFF == 27:\n",
    "        break\n",
    "cap.release()\n",
    "cv2.destroyAllWindows()\n",
    "cv2.waitKey(1)"
   ]
  },
  {
   "cell_type": "code",
   "execution_count": null,
   "metadata": {},
   "outputs": [],
   "source": [
    "mp_drawing = mp.solutions.drawing_utils\n",
    "mp_hands = mp.solutions.hands\n",
    "area1 = [(1911, 248),(7, 248),(8, 9),(1911, 10)] \n",
    "\n",
    "cap = cv2.VideoCapture(0)\n",
    "\n",
    "with mp_hands.Hands(static_image_mode = False, max_num_hands = 2, min_detection_confidence = 0.4) as hands:\n",
    "    while True:\n",
    "        success, image = cap.read()\n",
    "        if not success:\n",
    "            break\n",
    "\n",
    "        image_rgb = cv2.cvtColor(image, cv2.COLOR_BGR2RGB)\n",
    "        \n",
    "        results = hands.process(image_rgb)\n",
    "\n",
    "        if results.multi_hand_landmarks: \n",
    "            arr = np.array(results.multi_hand_landmarks)\n",
    "            no_hands = arr.shape[0]   \n",
    "            for i in range(0, no_hands):\n",
    "                hand_landmarks = results.multi_hand_landmarks[i] \n",
    "                \n",
    "                landmarks = hand_landmarks.landmark \n",
    "                landmark_x = [landmark.x for landmark in landmarks] \n",
    "                landmark_y = [landmark.y for landmark in landmarks]\n",
    "            \n",
    "                x_min, x_max = min(landmark_x), max(landmark_x)\n",
    "                y_min, y_max = min(landmark_y), max(landmark_y)\n",
    "\n",
    "                index_xmin = landmark_x.index(x_min)\n",
    "                index_xmax = landmark_x.index(x_max)\n",
    "                index_ymin = landmark_y.index(y_min)\n",
    "                index_ymax = landmark_y.index(y_max)\n",
    "\n",
    "                x_ymax = landmark_x[index_ymax]\n",
    "                x_ymin = landmark_x[index_ymin]\n",
    "                y_xmax = landmark_y[index_xmax]\n",
    "                y_xmin = landmark_y[index_xmin]\n",
    "\n",
    "                image_height, image_width, _ = image.shape\n",
    "                x_min1, y_min1 = int(x_min * image_width), int(y_min * image_height)\n",
    "                x_max1, y_max1 = int(x_max * image_width), int(y_max * image_height)\n",
    "\n",
    "                y_xmin = int(y_xmin * image_height)\n",
    "                y_xmax = int(y_xmax * image_height)\n",
    "                x_ymin = int(x_ymin * image_width)\n",
    "                x_ymax = int(x_ymax * image_width)\n",
    "\n",
    "                cv2.circle(image, (x_min1 , y_min1), 10, (255,0,255), -1)\n",
    "                cv2.circle(image, (x_max1 , y_max1), 10, (255,0,255), -1)\n",
    "\n",
    "                cv2.circle(image, (x_min1 , y_xmin), 10, (0, 0,255), -1)\n",
    "                cv2.circle(image, (x_max1 , y_xmax), 10, (0, 0,255), -1)\n",
    "                cv2.circle(image, (x_ymin , y_min1), 10, (0, 0,255), -1)\n",
    "                cv2.circle(image, (x_ymax , y_max1), 10, (0, 0,255), -1)\n",
    "\n",
    "                cv2.rectangle(image, (x_min1, y_min1), (x_max1, y_max1), (0, 255, 0), 2)\n",
    "\n",
    "                pos = cv2.pointPolygonTest(np.array(area1,np.int32), ((x_min1 , y_min1)), False)\n",
    "                if pos >= 0:\n",
    "                    cv2.putText(image, \"Hand Up\" ,(466, 988),cv2.FONT_HERSHEY_COMPLEX,(1),(255,255,255),4)\n",
    "                \n",
    "        cv2.polylines(image,[np.array(area1,np.int32)], True, (255,0,0), 3)    \n",
    "        cv2.imshow('Hand Detection', image)\n",
    "        \n",
    "        if cv2.waitKey(1) & 0xFF == 27:\n",
    "            break\n",
    "\n",
    "cap.release()\n",
    "cv2.destroyAllWindows()\n",
    "cv2.waitKey(1)"
   ]
  },
  {
   "cell_type": "code",
   "execution_count": 4,
   "metadata": {},
   "outputs": [
    {
     "data": {
      "text/plain": [
       "mediapipe.python.solution_base.SolutionOutputs"
      ]
     },
     "execution_count": 4,
     "metadata": {},
     "output_type": "execute_result"
    }
   ],
   "source": [
    "results"
   ]
  },
  {
   "cell_type": "code",
   "execution_count": null,
   "metadata": {},
   "outputs": [],
   "source": [
    "print(type(results.multi_hand_landmarks))\n",
    "print(len(results.multi_hand_landmarks))"
   ]
  },
  {
   "cell_type": "code",
   "execution_count": 16,
   "metadata": {},
   "outputs": [
    {
     "data": {
      "text/plain": [
       "[landmark {\n",
       "   x: 0.79619145\n",
       "   y: 0.6409359\n",
       "   z: 3.6862247e-07\n",
       " }\n",
       " landmark {\n",
       "   x: 0.7371646\n",
       "   y: 0.6388884\n",
       "   z: -0.026737038\n",
       " }\n",
       " landmark {\n",
       "   x: 0.6834463\n",
       "   y: 0.5956001\n",
       "   z: -0.04071197\n",
       " }\n",
       " landmark {\n",
       "   x: 0.64446205\n",
       "   y: 0.54429674\n",
       "   z: -0.052003156\n",
       " }\n",
       " landmark {\n",
       "   x: 0.60829556\n",
       "   y: 0.5150486\n",
       "   z: -0.06310589\n",
       " }\n",
       " landmark {\n",
       "   x: 0.70204157\n",
       "   y: 0.43744004\n",
       "   z: -0.02200137\n",
       " }\n",
       " landmark {\n",
       "   x: 0.67075354\n",
       "   y: 0.35222182\n",
       "   z: -0.03780188\n",
       " }\n",
       " landmark {\n",
       "   x: 0.653855\n",
       "   y: 0.2984272\n",
       "   z: -0.05145287\n",
       " }\n",
       " landmark {\n",
       "   x: 0.6413108\n",
       "   y: 0.24654417\n",
       "   z: -0.06256832\n",
       " }\n",
       " landmark {\n",
       "   x: 0.736779\n",
       "   y: 0.40476975\n",
       "   z: -0.023288777\n",
       " }\n",
       " landmark {\n",
       "   x: 0.7189243\n",
       "   y: 0.29701346\n",
       "   z: -0.035871617\n",
       " }\n",
       " landmark {\n",
       "   x: 0.7096362\n",
       "   y: 0.22972682\n",
       "   z: -0.048354466\n",
       " }\n",
       " landmark {\n",
       "   x: 0.7014956\n",
       "   y: 0.16834977\n",
       "   z: -0.0586926\n",
       " }\n",
       " landmark {\n",
       "   x: 0.77222455\n",
       "   y: 0.3985326\n",
       "   z: -0.028284252\n",
       " }\n",
       " landmark {\n",
       "   x: 0.76024246\n",
       "   y: 0.29945874\n",
       "   z: -0.044049583\n",
       " }\n",
       " landmark {\n",
       "   x: 0.75115275\n",
       "   y: 0.23827007\n",
       "   z: -0.054622434\n",
       " }\n",
       " landmark {\n",
       "   x: 0.7412517\n",
       "   y: 0.18045917\n",
       "   z: -0.06267918\n",
       " }\n",
       " landmark {\n",
       "   x: 0.8084892\n",
       "   y: 0.410723\n",
       "   z: -0.0356917\n",
       " }\n",
       " landmark {\n",
       "   x: 0.8075021\n",
       "   y: 0.33274725\n",
       "   z: -0.0509943\n",
       " }\n",
       " landmark {\n",
       "   x: 0.8069066\n",
       "   y: 0.2812223\n",
       "   z: -0.057040248\n",
       " }\n",
       " landmark {\n",
       "   x: 0.80463904\n",
       "   y: 0.22972427\n",
       "   z: -0.061379347\n",
       " },\n",
       " 1,\n",
       " 1]"
      ]
     },
     "execution_count": 16,
     "metadata": {},
     "output_type": "execute_result"
    }
   ],
   "source": [
    "results.multi_hand_landmarks"
   ]
  },
  {
   "cell_type": "code",
   "execution_count": 21,
   "metadata": {},
   "outputs": [
    {
     "data": {
      "text/plain": [
       "landmark {\n",
       "  x: 0.79619145\n",
       "  y: 0.6409359\n",
       "  z: 3.6862247e-07\n",
       "}\n",
       "landmark {\n",
       "  x: 0.7371646\n",
       "  y: 0.6388884\n",
       "  z: -0.026737038\n",
       "}\n",
       "landmark {\n",
       "  x: 0.6834463\n",
       "  y: 0.5956001\n",
       "  z: -0.04071197\n",
       "}\n",
       "landmark {\n",
       "  x: 0.64446205\n",
       "  y: 0.54429674\n",
       "  z: -0.052003156\n",
       "}\n",
       "landmark {\n",
       "  x: 0.60829556\n",
       "  y: 0.5150486\n",
       "  z: -0.06310589\n",
       "}\n",
       "landmark {\n",
       "  x: 0.70204157\n",
       "  y: 0.43744004\n",
       "  z: -0.02200137\n",
       "}\n",
       "landmark {\n",
       "  x: 0.67075354\n",
       "  y: 0.35222182\n",
       "  z: -0.03780188\n",
       "}\n",
       "landmark {\n",
       "  x: 0.653855\n",
       "  y: 0.2984272\n",
       "  z: -0.05145287\n",
       "}\n",
       "landmark {\n",
       "  x: 0.6413108\n",
       "  y: 0.24654417\n",
       "  z: -0.06256832\n",
       "}\n",
       "landmark {\n",
       "  x: 0.736779\n",
       "  y: 0.40476975\n",
       "  z: -0.023288777\n",
       "}\n",
       "landmark {\n",
       "  x: 0.7189243\n",
       "  y: 0.29701346\n",
       "  z: -0.035871617\n",
       "}\n",
       "landmark {\n",
       "  x: 0.7096362\n",
       "  y: 0.22972682\n",
       "  z: -0.048354466\n",
       "}\n",
       "landmark {\n",
       "  x: 0.7014956\n",
       "  y: 0.16834977\n",
       "  z: -0.0586926\n",
       "}\n",
       "landmark {\n",
       "  x: 0.77222455\n",
       "  y: 0.3985326\n",
       "  z: -0.028284252\n",
       "}\n",
       "landmark {\n",
       "  x: 0.76024246\n",
       "  y: 0.29945874\n",
       "  z: -0.044049583\n",
       "}\n",
       "landmark {\n",
       "  x: 0.75115275\n",
       "  y: 0.23827007\n",
       "  z: -0.054622434\n",
       "}\n",
       "landmark {\n",
       "  x: 0.7412517\n",
       "  y: 0.18045917\n",
       "  z: -0.06267918\n",
       "}\n",
       "landmark {\n",
       "  x: 0.8084892\n",
       "  y: 0.410723\n",
       "  z: -0.0356917\n",
       "}\n",
       "landmark {\n",
       "  x: 0.8075021\n",
       "  y: 0.33274725\n",
       "  z: -0.0509943\n",
       "}\n",
       "landmark {\n",
       "  x: 0.8069066\n",
       "  y: 0.2812223\n",
       "  z: -0.057040248\n",
       "}\n",
       "landmark {\n",
       "  x: 0.80463904\n",
       "  y: 0.22972427\n",
       "  z: -0.061379347\n",
       "}"
      ]
     },
     "execution_count": 21,
     "metadata": {},
     "output_type": "execute_result"
    }
   ],
   "source": [
    "results.multi_hand_landmarks[0]"
   ]
  },
  {
   "cell_type": "code",
   "execution_count": 15,
   "metadata": {},
   "outputs": [
    {
     "data": {
      "text/plain": [
       "[x: 0.79619145\n",
       "y: 0.6409359\n",
       "z: 3.6862247e-07\n",
       ", x: 0.7371646\n",
       "y: 0.6388884\n",
       "z: -0.026737038\n",
       ", x: 0.6834463\n",
       "y: 0.5956001\n",
       "z: -0.04071197\n",
       ", x: 0.64446205\n",
       "y: 0.54429674\n",
       "z: -0.052003156\n",
       ", x: 0.60829556\n",
       "y: 0.5150486\n",
       "z: -0.06310589\n",
       ", x: 0.70204157\n",
       "y: 0.43744004\n",
       "z: -0.02200137\n",
       ", x: 0.67075354\n",
       "y: 0.35222182\n",
       "z: -0.03780188\n",
       ", x: 0.653855\n",
       "y: 0.2984272\n",
       "z: -0.05145287\n",
       ", x: 0.6413108\n",
       "y: 0.24654417\n",
       "z: -0.06256832\n",
       ", x: 0.736779\n",
       "y: 0.40476975\n",
       "z: -0.023288777\n",
       ", x: 0.7189243\n",
       "y: 0.29701346\n",
       "z: -0.035871617\n",
       ", x: 0.7096362\n",
       "y: 0.22972682\n",
       "z: -0.048354466\n",
       ", x: 0.7014956\n",
       "y: 0.16834977\n",
       "z: -0.0586926\n",
       ", x: 0.77222455\n",
       "y: 0.3985326\n",
       "z: -0.028284252\n",
       ", x: 0.76024246\n",
       "y: 0.29945874\n",
       "z: -0.044049583\n",
       ", x: 0.75115275\n",
       "y: 0.23827007\n",
       "z: -0.054622434\n",
       ", x: 0.7412517\n",
       "y: 0.18045917\n",
       "z: -0.06267918\n",
       ", x: 0.8084892\n",
       "y: 0.410723\n",
       "z: -0.0356917\n",
       ", x: 0.8075021\n",
       "y: 0.33274725\n",
       "z: -0.0509943\n",
       ", x: 0.8069066\n",
       "y: 0.2812223\n",
       "z: -0.057040248\n",
       ", x: 0.80463904\n",
       "y: 0.22972427\n",
       "z: -0.061379347\n",
       "]"
      ]
     },
     "execution_count": 15,
     "metadata": {},
     "output_type": "execute_result"
    }
   ],
   "source": [
    "landmarks "
   ]
  },
  {
   "cell_type": "code",
   "execution_count": null,
   "metadata": {},
   "outputs": [],
   "source": [
    "import numpy as np\n",
    "arr = np.array(results.multi_hand_landmarks)\n",
    "arr.shape[0]"
   ]
  },
  {
   "cell_type": "code",
   "execution_count": 151,
   "metadata": {},
   "outputs": [
    {
     "data": {
      "text/plain": [
       "x: 0.35202825\n",
       "y: 0.9314307\n",
       "z: -1.5992345e-07"
      ]
     },
     "execution_count": 151,
     "metadata": {},
     "output_type": "execute_result"
    }
   ],
   "source": [
    "len(landmarks)\n",
    "landmarks[0]"
   ]
  },
  {
   "cell_type": "code",
   "execution_count": 155,
   "metadata": {},
   "outputs": [
    {
     "data": {
      "text/plain": [
       "array([[[ 62, 143, 167],\n",
       "        [ 60, 139, 163],\n",
       "        [ 59, 135, 162],\n",
       "        ...,\n",
       "        [ 20,  16,  32],\n",
       "        [ 25,  21,  40],\n",
       "        [ 32,  28,  47]],\n",
       "\n",
       "       [[ 63, 144, 168],\n",
       "        [ 62, 140, 164],\n",
       "        [ 58, 134, 160],\n",
       "        ...,\n",
       "        [ 23,  20,  34],\n",
       "        [ 27,  23,  39],\n",
       "        [ 25,  22,  38]],\n",
       "\n",
       "       [[ 65, 144, 168],\n",
       "        [ 65, 143, 170],\n",
       "        [ 60, 135, 165],\n",
       "        ...,\n",
       "        [ 22,  17,  28],\n",
       "        [ 20,  15,  29],\n",
       "        [ 19,  14,  28]],\n",
       "\n",
       "       ...,\n",
       "\n",
       "       [[ 11,  21,  29],\n",
       "        [  5,  17,  24],\n",
       "        [  0,  12,  20],\n",
       "        ...,\n",
       "        [124, 153, 145],\n",
       "        [124, 152, 147],\n",
       "        [124, 152, 147]],\n",
       "\n",
       "       [[ 13,  21,  27],\n",
       "        [ 10,  21,  26],\n",
       "        [  3,  16,  23],\n",
       "        ...,\n",
       "        [122, 149, 142],\n",
       "        [122, 148, 144],\n",
       "        [121, 147, 142]],\n",
       "\n",
       "       [[ 11,  19,  25],\n",
       "        [  9,  19,  25],\n",
       "        [  6,  18,  26],\n",
       "        ...,\n",
       "        [122, 149, 142],\n",
       "        [120, 146, 141],\n",
       "        [119, 145, 140]]], dtype=uint8)"
      ]
     },
     "execution_count": 155,
     "metadata": {},
     "output_type": "execute_result"
    }
   ],
   "source": [
    "image"
   ]
  },
  {
   "cell_type": "code",
   "execution_count": 83,
   "metadata": {},
   "outputs": [
    {
     "data": {
      "text/plain": [
       "array([[ 90, 194, 238],\n",
       "       [ 91, 195, 239],\n",
       "       [ 88, 191, 236],\n",
       "       ...,\n",
       "       [108, 120, 119],\n",
       "       [115, 127, 124],\n",
       "       [120, 132, 128]], dtype=uint8)"
      ]
     },
     "execution_count": 83,
     "metadata": {},
     "output_type": "execute_result"
    }
   ],
   "source": [
    "image[0] "
   ]
  },
  {
   "cell_type": "code",
   "execution_count": 76,
   "metadata": {},
   "outputs": [
    {
     "data": {
      "text/plain": [
       "array([ 90, 194, 238], dtype=uint8)"
      ]
     },
     "execution_count": 76,
     "metadata": {},
     "output_type": "execute_result"
    }
   ],
   "source": [
    "image[0][0] "
   ]
  },
  {
   "cell_type": "code",
   "execution_count": 79,
   "metadata": {},
   "outputs": [
    {
     "data": {
      "text/plain": [
       "array([145, 156, 127], dtype=uint8)"
      ]
     },
     "execution_count": 79,
     "metadata": {},
     "output_type": "execute_result"
    }
   ],
   "source": [
    "image[1079][1919] "
   ]
  },
  {
   "cell_type": "code",
   "execution_count": 22,
   "metadata": {},
   "outputs": [],
   "source": [
    "cap.release()"
   ]
  }
 ],
 "metadata": {
  "kernelspec": {
   "display_name": "Python 3",
   "language": "python",
   "name": "python3"
  },
  "language_info": {
   "codemirror_mode": {
    "name": "ipython",
    "version": 3
   },
   "file_extension": ".py",
   "mimetype": "text/x-python",
   "name": "python",
   "nbconvert_exporter": "python",
   "pygments_lexer": "ipython3",
   "version": "3.11.3"
  },
  "orig_nbformat": 4
 },
 "nbformat": 4,
 "nbformat_minor": 2
}
